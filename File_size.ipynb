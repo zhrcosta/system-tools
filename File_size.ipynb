{
 "cells": [
  {
   "cell_type": "code",
   "execution_count": 12,
   "id": "incident-wayne",
   "metadata": {},
   "outputs": [],
   "source": [
    "import os\n",
    "import glob"
   ]
  },
  {
   "cell_type": "code",
   "execution_count": 5,
   "id": "dietary-bidding",
   "metadata": {},
   "outputs": [],
   "source": [
    "b = os.path.getsize(\"test/parametric-chair.jpg\")"
   ]
  },
  {
   "cell_type": "code",
   "execution_count": 6,
   "id": "strategic-newspaper",
   "metadata": {},
   "outputs": [
    {
     "data": {
      "text/plain": [
       "191634"
      ]
     },
     "execution_count": 6,
     "metadata": {},
     "output_type": "execute_result"
    }
   ],
   "source": [
    "b"
   ]
  },
  {
   "cell_type": "code",
   "execution_count": 4,
   "id": "accurate-discussion",
   "metadata": {},
   "outputs": [
    {
     "data": {
      "text/plain": [
       "187.142578125"
      ]
     },
     "execution_count": 4,
     "metadata": {},
     "output_type": "execute_result"
    }
   ],
   "source": [
    "b / 1024"
   ]
  },
  {
   "cell_type": "code",
   "execution_count": 7,
   "id": "opening-newman",
   "metadata": {},
   "outputs": [
    {
     "data": {
      "text/plain": [
       "187"
      ]
     },
     "execution_count": 7,
     "metadata": {},
     "output_type": "execute_result"
    }
   ],
   "source": [
    "b // 1024"
   ]
  },
  {
   "cell_type": "code",
   "execution_count": 9,
   "id": "equipped-playlist",
   "metadata": {},
   "outputs": [
    {
     "data": {
      "text/plain": [
       "'187.14'"
      ]
     },
     "execution_count": 9,
     "metadata": {},
     "output_type": "execute_result"
    }
   ],
   "source": [
    "f'{b/1024:.2f}'"
   ]
  },
  {
   "cell_type": "code",
   "execution_count": 11,
   "id": "medical-france",
   "metadata": {},
   "outputs": [
    {
     "data": {
      "text/plain": [
       "187.14"
      ]
     },
     "execution_count": 11,
     "metadata": {},
     "output_type": "execute_result"
    }
   ],
   "source": [
    "float(f'{b/1024:.2f}')"
   ]
  },
  {
   "cell_type": "code",
   "execution_count": 17,
   "id": "apparent-audience",
   "metadata": {},
   "outputs": [],
   "source": [
    "file_list = glob.glob(\"test/*\")"
   ]
  },
  {
   "cell_type": "code",
   "execution_count": 18,
   "id": "ambient-savannah",
   "metadata": {},
   "outputs": [
    {
     "data": {
      "text/plain": [
       "['test/multipipe-cover.jpg',\n",
       " 'test/traveling-salesman-problem-02.png',\n",
       " 'test/inesjimenezpedras-arch.jpg',\n",
       " 'test/potenciacao_exercicios.pdf',\n",
       " 'test/2717a703f8ab683218a44334d873a7a1.pdf',\n",
       " 'test/polygonal structure-01.jpg',\n",
       " 'test/Potencia____o.pdf',\n",
       " 'test/parametric-chair.jpg',\n",
       " 'test/atom-amd64.deb',\n",
       " 'test/Minimal Surface Gyroid.jpg']"
      ]
     },
     "execution_count": 18,
     "metadata": {},
     "output_type": "execute_result"
    }
   ],
   "source": [
    "file_list"
   ]
  },
  {
   "cell_type": "code",
   "execution_count": 30,
   "id": "experienced-recipe",
   "metadata": {},
   "outputs": [
    {
     "name": "stdout",
     "output_type": "stream",
     "text": [
      "multipipe-cover.jpg..............................................................197.10-KB\n",
      "traveling-salesman-problem-02.png................................................156.57-KB\n",
      "inesjimenezpedras-arch.jpg.......................................................166.68-KB\n",
      "potenciacao_exercicios.pdf.......................................................733.37-KB\n",
      "2717a703f8ab683218a44334d873a7a1.pdf.............................................100.79-KB\n",
      "polygonal structure-01.jpg........................................................66.88-KB\n",
      "Potencia____o.pdf................................................................486.66-KB\n",
      "parametric-chair.jpg.............................................................187.14-KB\n",
      "atom-amd64.deb................................................................122803.47-KB\n",
      "Minimal Surface Gyroid.jpg.......................................................301.08-KB\n"
     ]
    }
   ],
   "source": [
    "for file in file_list:\n",
    "    if os.path.isfile(file):\n",
    "        path = file\n",
    "        file = file.split(\"/\")[-1]\n",
    "        size = os.path.getsize(path) / 1024\n",
    "        size = f'{size:.2f}-KB'\n",
    "        space_char = 90 - (len(file)+len(size))\n",
    "        print(f'{file}{space_char*\".\"}{size}')"
   ]
  },
  {
   "cell_type": "code",
   "execution_count": null,
   "id": "elegant-formula",
   "metadata": {},
   "outputs": [],
   "source": []
  }
 ],
 "metadata": {
  "kernelspec": {
   "display_name": "Python 3",
   "language": "python",
   "name": "python3"
  },
  "language_info": {
   "codemirror_mode": {
    "name": "ipython",
    "version": 3
   },
   "file_extension": ".py",
   "mimetype": "text/x-python",
   "name": "python",
   "nbconvert_exporter": "python",
   "pygments_lexer": "ipython3",
   "version": "3.7.9"
  }
 },
 "nbformat": 4,
 "nbformat_minor": 5
}
