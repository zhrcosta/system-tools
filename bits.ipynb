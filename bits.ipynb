{
 "cells": [
  {
   "cell_type": "code",
   "execution_count": 49,
   "metadata": {},
   "outputs": [],
   "source": [
    "\n",
    "byte = 1\n",
    "kilobyte = 1024 * byte\n",
    "megabyte = 1024 * kilobyte\n",
    "gigabyte = 1024 * megabyte\n",
    "terabyte = 1024 * gigabyte\n",
    "petabyte = 1024 * terabyte"
   ]
  },
  {
   "cell_type": "code",
   "execution_count": 50,
   "metadata": {},
   "outputs": [
    {
     "data": {
      "text/plain": [
       "1"
      ]
     },
     "execution_count": 50,
     "metadata": {},
     "output_type": "execute_result"
    }
   ],
   "source": [
    "byte"
   ]
  },
  {
   "cell_type": "code",
   "execution_count": 51,
   "metadata": {},
   "outputs": [
    {
     "data": {
      "text/plain": [
       "'1.024'"
      ]
     },
     "execution_count": 51,
     "metadata": {},
     "output_type": "execute_result"
    }
   ],
   "source": [
    "f'{kilobyte:,}'.replace(',','.')"
   ]
  },
  {
   "cell_type": "code",
   "execution_count": 52,
   "metadata": {},
   "outputs": [
    {
     "data": {
      "text/plain": [
       "'1.048.576'"
      ]
     },
     "execution_count": 52,
     "metadata": {},
     "output_type": "execute_result"
    }
   ],
   "source": [
    "f'{megabyte:,}'.replace(',','.')"
   ]
  },
  {
   "cell_type": "code",
   "execution_count": 53,
   "metadata": {},
   "outputs": [
    {
     "data": {
      "text/plain": [
       "'1.073.741.824'"
      ]
     },
     "execution_count": 53,
     "metadata": {},
     "output_type": "execute_result"
    }
   ],
   "source": [
    "f'{gigabyte:,}'.replace(',','.')"
   ]
  },
  {
   "cell_type": "code",
   "execution_count": 54,
   "metadata": {},
   "outputs": [
    {
     "data": {
      "text/plain": [
       "'1.099.511.627.776'"
      ]
     },
     "execution_count": 54,
     "metadata": {},
     "output_type": "execute_result"
    }
   ],
   "source": [
    "f'{terabyte:,}'.replace(',','.')"
   ]
  },
  {
   "cell_type": "code",
   "execution_count": 55,
   "metadata": {},
   "outputs": [
    {
     "data": {
      "text/plain": [
       "'1.125.899.906.842.624'"
      ]
     },
     "execution_count": 55,
     "metadata": {},
     "output_type": "execute_result"
    }
   ],
   "source": [
    "f'{petabyte:,}'.replace(',','.')"
   ]
  },
  {
   "cell_type": "code",
   "execution_count": 113,
   "metadata": {},
   "outputs": [],
   "source": [
    "def sizeReadable(size):\n",
    "    if size < kilobyte:\n",
    "        print(f'{size} - B')\n",
    "        \n",
    "    elif size == kilobyte:\n",
    "        print(f'{size//kilobyte} - KB')\n",
    "        \n",
    "    elif size < megabyte:\n",
    "        print(f'{size/kilobyte:.2f} - KB')\n",
    "        \n",
    "    elif size == megabyte:\n",
    "        print(f'{size//megabyte} - MB')\n",
    "    \n",
    "    elif size < gigabyte:\n",
    "        print(f'{size/megabyte:.2f} - MB')\n",
    "        \n",
    "    elif size == gigabyte:\n",
    "        print(f'{size//gigabyte} - GB')\n",
    "    \n",
    "    elif size < terabyte:\n",
    "        print(f'{size/gigabyte:.2f} - GB')\n",
    "        \n",
    "    elif size == terabyte:\n",
    "        print(f'{size//terabyte} - TB')\n",
    "    \n",
    "    elif size < petabyte:\n",
    "        print(f'{size/terabyte:.2f} - TB')"
   ]
  },
  {
   "cell_type": "code",
   "execution_count": 114,
   "metadata": {},
   "outputs": [
    {
     "name": "stdout",
     "output_type": "stream",
     "text": [
      "10.41 - KB\n"
     ]
    }
   ],
   "source": [
    "sizeReadable(10660)"
   ]
  },
  {
   "cell_type": "code",
   "execution_count": 115,
   "metadata": {},
   "outputs": [],
   "source": [
    "import glob\n",
    "import os"
   ]
  },
  {
   "cell_type": "code",
   "execution_count": 116,
   "metadata": {},
   "outputs": [],
   "source": [
    "path = glob.glob(\"/home/zhrcosta/Downloads/*\")"
   ]
  },
  {
   "cell_type": "code",
   "execution_count": 117,
   "metadata": {},
   "outputs": [
    {
     "name": "stdout",
     "output_type": "stream",
     "text": [
      "7.70 - KB\n",
      "969.65 - MB\n",
      "160.15 - KB\n",
      "4.00 - KB\n",
      "271.39 - KB\n",
      "419.57 - KB\n",
      "4.00 - KB\n",
      "10.41 - KB\n",
      "4.00 - KB\n",
      "29.61 - MB\n",
      "802.86 - KB\n",
      "4.00 - KB\n",
      "4.00 - KB\n",
      "525.98 - KB\n",
      "114.47 - KB\n",
      "3.49 - MB\n",
      "280.24 - MB\n",
      "22.38 - KB\n",
      "121.48 - KB\n",
      "4.00 - KB\n",
      "49.72 - KB\n"
     ]
    }
   ],
   "source": [
    "for i in path:\n",
    "    sizeReadable(os.path.getsize(i))\n",
    "    "
   ]
  },
  {
   "cell_type": "code",
   "execution_count": 124,
   "metadata": {},
   "outputs": [],
   "source": [
    "yb = f'{1024**8:,}'.replace(',','.')"
   ]
  },
  {
   "cell_type": "code",
   "execution_count": 125,
   "metadata": {},
   "outputs": [
    {
     "data": {
      "text/plain": [
       "'1.208.925.819.614.629.174.706.176'"
      ]
     },
     "execution_count": 125,
     "metadata": {},
     "output_type": "execute_result"
    }
   ],
   "source": [
    "yb"
   ]
  },
  {
   "cell_type": "code",
   "execution_count": 126,
   "metadata": {},
   "outputs": [
    {
     "data": {
      "text/plain": [
       "1208925819614629174706176"
      ]
     },
     "execution_count": 126,
     "metadata": {},
     "output_type": "execute_result"
    }
   ],
   "source": [
    "1024**8"
   ]
  },
  {
   "cell_type": "code",
   "execution_count": null,
   "metadata": {},
   "outputs": [],
   "source": []
  }
 ],
 "metadata": {
  "kernelspec": {
   "display_name": "Python 3",
   "language": "python",
   "name": "python3"
  },
  "language_info": {
   "codemirror_mode": {
    "name": "ipython",
    "version": 3
   },
   "file_extension": ".py",
   "mimetype": "text/x-python",
   "name": "python",
   "nbconvert_exporter": "python",
   "pygments_lexer": "ipython3",
   "version": "3.7.9"
  }
 },
 "nbformat": 4,
 "nbformat_minor": 4
}
